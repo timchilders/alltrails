{
 "cells": [
  {
   "cell_type": "code",
   "execution_count": 36,
   "id": "a5bfa313-c6a4-4876-9fa3-ee4874617586",
   "metadata": {},
   "outputs": [],
   "source": [
    "import time\n",
    "import pprint\n",
    "import pandas as pd\n",
    "from bs4 import BeautifulSoup\n",
    "from pymongo import MongoClient\n",
    "from selenium import webdriver\n",
    "from selenium.webdriver.common.keys import Keys\n",
    "from selenium.webdriver.common.by import By\n",
    "from selenium.webdriver.support.ui import WebDriverWait\n",
    "from selenium.webdriver.support import expected_conditions as EC\n",
    "    "
   ]
  },
  {
   "cell_type": "code",
   "execution_count": 71,
   "id": "6d5246c7-5556-4aa2-ad64-7798645fa826",
   "metadata": {},
   "outputs": [],
   "source": [
    "def create_df(soup):\n",
    "    df = pd.DataFrame(columns=['Name','Location','URL'])\n",
    "    cards = soup.findAll('div', attrs = {'class':'styles-module__containerDescriptive___3aZqQ styles-module__trailCard___2oHiP'})\n",
    "    for trail in cards:\n",
    "        url = 'https://www.alltrails.com/'+trail.attrs['itemid']\n",
    "        name = trail.find('a', attrs = {'class':'xlate-none styles-module__link___12BPT'})['title']\n",
    "        loc = trail.find('a', attrs = {'class':'xlate-none styles-module__location___11FHK styles-module__info___1Mbn6 styles-module__link___3T9FO'})['title']\n",
    "        row = pd.Series([name,loc,url])\n",
    "        df = df.append(row, ignore_index=True)\n",
    "    return df\n",
    "        \n",
    "    "
   ]
  },
  {
   "cell_type": "code",
   "execution_count": 76,
   "id": "c8a09110-f61a-4cd5-acee-1fac5e2919c6",
   "metadata": {},
   "outputs": [],
   "source": [
    "def create_db(soup,driver):\n",
    "    urls=[]\n",
    "    cards = soup.findAll('div', attrs = {'class':'styles-module__containerDescriptive___3aZqQ styles-module__trailCard___2oHiP'})\n",
    "    for trail in cards:\n",
    "        urls.append('https://www.alltrails.com/'+trail.attrs['itemid'])\n",
    "\n",
    "    df = get_trail_info(urls,driver)"
   ]
  },
  {
   "cell_type": "code",
   "execution_count": 74,
   "id": "07761f0d-acd1-481c-8f93-604e7c87ce54",
   "metadata": {},
   "outputs": [],
   "source": [
    "def page_parser(page,url):\n",
    "    \n",
    "    \n",
    "    #header\n",
    "    header = page.find('div',id='title-and-menu-box')\n",
    "    trail_name = header.find('h1').text\n",
    "    difficulty = header.find('span').text\n",
    "    rating = header.find('span', itemprop='ratingValue')['text']\n",
    "    reviews = header.find('span', itemprop='reviewCount')['text']\n",
    "#     loc = trail.find('a', attrs = {'class':'xlate-none styles-module__location___11FHK styles-module__location___3wEnO'})['title']\n",
    "    loc = header.find('a', attrs = {'class':'xlate-none styles-module__location___11FHK styles-module__location___3wEnO'})['title']\n",
    "    \n",
    "    #trail stats section\n",
    "    trail_stats = trail_stats.findAll('span', attrs={'class':'styles-module__detailData___kQ-eK'})\n",
    "    length = trail_stats[0]['text']\n",
    "    elev_gain = trail_stats[1]['text']\n",
    "    route = trail_stats[2]['text']\n",
    "    \n",
    "    #metadata\n",
    "    lat = page.find('meta', attrs = {'itemprop':'latitude'})\n",
    "    long = page.find('meta', attrs = {'itemprop':'longitude'})\n",
    "    \n",
    "    row = pd.Series([trail_name,loc,rating,reviews,difficulty,length,elev_gain,route,lat,long,url])\n",
    "    return row"
   ]
  },
  {
   "cell_type": "code",
   "execution_count": 84,
   "id": "53cc63a6-d522-490a-8b6f-799e5afed98b",
   "metadata": {},
   "outputs": [],
   "source": [
    "def get_trail_info(urls,driver):\n",
    "    df = pd.DataFrame(columns=['Name','Location','Rating','Reviews','Difficulty','Length','Elevation gain','Route type','lat','long','URL'])\n",
    "    wait = WebDriverWait(driver,20)\n",
    "    for url in urls:\n",
    "        driver.get(url)\n",
    "        time.sleep(10)\n",
    "        row = page_parser(BeautifulSoup(driver.page_source,'html.parser'),url)\n",
    "        df = df.append(row, ignore_index=True)\n",
    "    return df\n",
    "            \n",
    "        "
   ]
  },
  {
   "cell_type": "code",
   "execution_count": 5,
   "id": "981801b5-6a51-4adf-b680-93ef786bfe31",
   "metadata": {},
   "outputs": [],
   "source": [
    "def get_trails(driver):\n",
    "    url = 'https://www.alltrails.com/us/colorado'\n",
    "    driver.get(url)\n",
    "    wait = WebDriverWait(driver,20)\n",
    "\n",
    "    while True:\n",
    "        try:\n",
    "            show_more = wait.until(EC.element_to_be_clickable((By.CSS_SELECTOR,'.styles-module__button___1nuva')))\n",
    "            show_more.click()\n",
    "            time.sleep(1)\n",
    "        except:\n",
    "            break\n",
    "    \n",
    "    soup = BeautifulSoup(driver.page_source, 'html.parser')\n",
    "    return soup"
   ]
  },
  {
   "cell_type": "code",
   "execution_count": 6,
   "id": "0bcd223d-935a-480c-81e7-0cc01652d564",
   "metadata": {},
   "outputs": [],
   "source": [
    "un = 'timrchilders@gmail.com'\n",
    "pwd = 'galvanize'\n",
    "\n",
    "# options = Options()\n",
    "# options.add_argument(\"--headless\")\n",
    "firefox_profile = webdriver.FirefoxProfile()\n",
    "firefox_profile.set_preference(\"browser.privatebrowsing.autostart\", True)\n",
    "\n",
    "\n",
    "driver=webdriver.Firefox(executable_path=\"/usr/bin/geckodriver\", firefox_profile=firefox_profile)\n",
    "\n",
    "soup = get_trails(driver)\n",
    "driver.quit()"
   ]
  },
  {
   "cell_type": "code",
   "execution_count": 27,
   "id": "e91d146e-2174-4df7-8183-cbeaceed7ac4",
   "metadata": {},
   "outputs": [
    {
     "name": "stdout",
     "output_type": "stream",
     "text": [
      "<title class=\"xlate-none\">  Best trails in Colorado\n",
      " | AllTrails</title>\n"
     ]
    }
   ],
   "source": [
    "print(soup.title)"
   ]
  },
  {
   "cell_type": "code",
   "execution_count": 69,
   "id": "bd47149a-8741-4117-90e1-03d8dfdc2a88",
   "metadata": {},
   "outputs": [
    {
     "name": "stdout",
     "output_type": "stream",
     "text": [
      "Scraped 1000 trails\n"
     ]
    }
   ],
   "source": [
    "trails = create_df(soup)\n",
    "print(f\"Scraped {len(trails)} trails\")"
   ]
  },
  {
   "cell_type": "code",
   "execution_count": 86,
   "id": "365e8ae8-ae34-464a-a98b-da2cd2d2f887",
   "metadata": {},
   "outputs": [
    {
     "data": {
      "text/html": [
       "<div>\n",
       "<style scoped>\n",
       "    .dataframe tbody tr th:only-of-type {\n",
       "        vertical-align: middle;\n",
       "    }\n",
       "\n",
       "    .dataframe tbody tr th {\n",
       "        vertical-align: top;\n",
       "    }\n",
       "\n",
       "    .dataframe thead th {\n",
       "        text-align: right;\n",
       "    }\n",
       "</style>\n",
       "<table border=\"1\" class=\"dataframe\">\n",
       "  <thead>\n",
       "    <tr style=\"text-align: right;\">\n",
       "      <th></th>\n",
       "      <th>0</th>\n",
       "      <th>1</th>\n",
       "      <th>2</th>\n",
       "    </tr>\n",
       "  </thead>\n",
       "  <tbody>\n",
       "    <tr>\n",
       "      <th>0</th>\n",
       "      <td>Emerald Lake Trail</td>\n",
       "      <td>Rocky Mountain National Park</td>\n",
       "      <td>https://www.alltrails.com//trail/us/colorado/e...</td>\n",
       "    </tr>\n",
       "    <tr>\n",
       "      <th>1</th>\n",
       "      <td>Royal Arch Trail</td>\n",
       "      <td>Boulder Open Space</td>\n",
       "      <td>https://www.alltrails.com//trail/us/colorado/r...</td>\n",
       "    </tr>\n",
       "    <tr>\n",
       "      <th>2</th>\n",
       "      <td>Sky Pond via Glacier Gorge Trail</td>\n",
       "      <td>Rocky Mountain National Park</td>\n",
       "      <td>https://www.alltrails.com//trail/us/colorado/s...</td>\n",
       "    </tr>\n",
       "    <tr>\n",
       "      <th>3</th>\n",
       "      <td>Chavez and Beaver Brook Trail Loop</td>\n",
       "      <td>Genesee Park</td>\n",
       "      <td>https://www.alltrails.com//trail/us/colorado/b...</td>\n",
       "    </tr>\n",
       "    <tr>\n",
       "      <th>4</th>\n",
       "      <td>The Loch via Glacier Gorge Trail</td>\n",
       "      <td>Rocky Mountain National Park</td>\n",
       "      <td>https://www.alltrails.com//trail/us/colorado/t...</td>\n",
       "    </tr>\n",
       "    <tr>\n",
       "      <th>...</th>\n",
       "      <td>...</td>\n",
       "      <td>...</td>\n",
       "      <td>...</td>\n",
       "    </tr>\n",
       "    <tr>\n",
       "      <th>995</th>\n",
       "      <td>Bear Creek Trail</td>\n",
       "      <td>American Flats Wilderness Area</td>\n",
       "      <td>https://www.alltrails.com//trail/us/colorado/b...</td>\n",
       "    </tr>\n",
       "    <tr>\n",
       "      <th>996</th>\n",
       "      <td>Boreas Pass Road and Baker's Tank Trail Loop</td>\n",
       "      <td>Ridgeview Park</td>\n",
       "      <td>https://www.alltrails.com//trail/us/colorado/b...</td>\n",
       "    </tr>\n",
       "    <tr>\n",
       "      <th>997</th>\n",
       "      <td>Balanced Rock Trail</td>\n",
       "      <td>Pike National Forest</td>\n",
       "      <td>https://www.alltrails.com//trail/us/colorado/b...</td>\n",
       "    </tr>\n",
       "    <tr>\n",
       "      <th>998</th>\n",
       "      <td>Village Walk, Red Rocks and Cherry Gulch Trail...</td>\n",
       "      <td>Matthews Winters Park</td>\n",
       "      <td>https://www.alltrails.com//trail/us/colorado/v...</td>\n",
       "    </tr>\n",
       "    <tr>\n",
       "      <th>999</th>\n",
       "      <td>La Plata Ellingwood Ridge</td>\n",
       "      <td>Collegiate Peaks Wilderness</td>\n",
       "      <td>https://www.alltrails.com//trail/us/colorado/l...</td>\n",
       "    </tr>\n",
       "  </tbody>\n",
       "</table>\n",
       "<p>1000 rows × 3 columns</p>\n",
       "</div>"
      ],
      "text/plain": [
       "                                                     0  \\\n",
       "0                                   Emerald Lake Trail   \n",
       "1                                     Royal Arch Trail   \n",
       "2                     Sky Pond via Glacier Gorge Trail   \n",
       "3                   Chavez and Beaver Brook Trail Loop   \n",
       "4                     The Loch via Glacier Gorge Trail   \n",
       "..                                                 ...   \n",
       "995                                   Bear Creek Trail   \n",
       "996       Boreas Pass Road and Baker's Tank Trail Loop   \n",
       "997                                Balanced Rock Trail   \n",
       "998  Village Walk, Red Rocks and Cherry Gulch Trail...   \n",
       "999                          La Plata Ellingwood Ridge   \n",
       "\n",
       "                                  1  \\\n",
       "0      Rocky Mountain National Park   \n",
       "1                Boulder Open Space   \n",
       "2      Rocky Mountain National Park   \n",
       "3                      Genesee Park   \n",
       "4      Rocky Mountain National Park   \n",
       "..                              ...   \n",
       "995  American Flats Wilderness Area   \n",
       "996                  Ridgeview Park   \n",
       "997            Pike National Forest   \n",
       "998           Matthews Winters Park   \n",
       "999     Collegiate Peaks Wilderness   \n",
       "\n",
       "                                                     2  \n",
       "0    https://www.alltrails.com//trail/us/colorado/e...  \n",
       "1    https://www.alltrails.com//trail/us/colorado/r...  \n",
       "2    https://www.alltrails.com//trail/us/colorado/s...  \n",
       "3    https://www.alltrails.com//trail/us/colorado/b...  \n",
       "4    https://www.alltrails.com//trail/us/colorado/t...  \n",
       "..                                                 ...  \n",
       "995  https://www.alltrails.com//trail/us/colorado/b...  \n",
       "996  https://www.alltrails.com//trail/us/colorado/b...  \n",
       "997  https://www.alltrails.com//trail/us/colorado/b...  \n",
       "998  https://www.alltrails.com//trail/us/colorado/v...  \n",
       "999  https://www.alltrails.com//trail/us/colorado/l...  \n",
       "\n",
       "[1000 rows x 3 columns]"
      ]
     },
     "execution_count": 86,
     "metadata": {},
     "output_type": "execute_result"
    }
   ],
   "source": [
    "trails"
   ]
  },
  {
   "cell_type": "code",
   "execution_count": 85,
   "id": "e97589d4-8981-41b4-8789-6d393334f3c1",
   "metadata": {},
   "outputs": [
    {
     "ename": "AttributeError",
     "evalue": "'NoneType' object has no attribute 'text'",
     "output_type": "error",
     "traceback": [
      "\u001b[0;31m---------------------------------------------------------------------------\u001b[0m",
      "\u001b[0;31mAttributeError\u001b[0m                            Traceback (most recent call last)",
      "\u001b[0;32m<ipython-input-85-2b659417279f>\u001b[0m in \u001b[0;36m<module>\u001b[0;34m\u001b[0m\n\u001b[1;32m      4\u001b[0m \u001b[0;34m\u001b[0m\u001b[0m\n\u001b[1;32m      5\u001b[0m \u001b[0mdriver\u001b[0m\u001b[0;34m=\u001b[0m\u001b[0mwebdriver\u001b[0m\u001b[0;34m.\u001b[0m\u001b[0mFirefox\u001b[0m\u001b[0;34m(\u001b[0m\u001b[0mexecutable_path\u001b[0m\u001b[0;34m=\u001b[0m\u001b[0;34m\"/usr/bin/geckodriver\"\u001b[0m\u001b[0;34m,\u001b[0m \u001b[0mfirefox_profile\u001b[0m\u001b[0;34m=\u001b[0m\u001b[0mfirefox_profile\u001b[0m\u001b[0;34m)\u001b[0m\u001b[0;34m\u001b[0m\u001b[0;34m\u001b[0m\u001b[0m\n\u001b[0;32m----> 6\u001b[0;31m \u001b[0mdb\u001b[0m \u001b[0;34m=\u001b[0m \u001b[0mcreate_db\u001b[0m\u001b[0;34m(\u001b[0m\u001b[0msoup\u001b[0m\u001b[0;34m,\u001b[0m \u001b[0mdriver\u001b[0m\u001b[0;34m)\u001b[0m\u001b[0;34m\u001b[0m\u001b[0;34m\u001b[0m\u001b[0m\n\u001b[0m",
      "\u001b[0;32m<ipython-input-76-1dcbbbd6abca>\u001b[0m in \u001b[0;36mcreate_db\u001b[0;34m(soup, driver)\u001b[0m\n\u001b[1;32m      5\u001b[0m         \u001b[0murls\u001b[0m\u001b[0;34m.\u001b[0m\u001b[0mappend\u001b[0m\u001b[0;34m(\u001b[0m\u001b[0;34m'https://www.alltrails.com/'\u001b[0m\u001b[0;34m+\u001b[0m\u001b[0mtrail\u001b[0m\u001b[0;34m.\u001b[0m\u001b[0mattrs\u001b[0m\u001b[0;34m[\u001b[0m\u001b[0;34m'itemid'\u001b[0m\u001b[0;34m]\u001b[0m\u001b[0;34m)\u001b[0m\u001b[0;34m\u001b[0m\u001b[0;34m\u001b[0m\u001b[0m\n\u001b[1;32m      6\u001b[0m \u001b[0;34m\u001b[0m\u001b[0m\n\u001b[0;32m----> 7\u001b[0;31m     \u001b[0mdf\u001b[0m \u001b[0;34m=\u001b[0m \u001b[0mget_trail_info\u001b[0m\u001b[0;34m(\u001b[0m\u001b[0murls\u001b[0m\u001b[0;34m,\u001b[0m\u001b[0mdriver\u001b[0m\u001b[0;34m)\u001b[0m\u001b[0;34m\u001b[0m\u001b[0;34m\u001b[0m\u001b[0m\n\u001b[0m",
      "\u001b[0;32m<ipython-input-84-60cfe837242e>\u001b[0m in \u001b[0;36mget_trail_info\u001b[0;34m(urls, driver)\u001b[0m\n\u001b[1;32m      5\u001b[0m         \u001b[0mdriver\u001b[0m\u001b[0;34m.\u001b[0m\u001b[0mget\u001b[0m\u001b[0;34m(\u001b[0m\u001b[0murl\u001b[0m\u001b[0;34m)\u001b[0m\u001b[0;34m\u001b[0m\u001b[0;34m\u001b[0m\u001b[0m\n\u001b[1;32m      6\u001b[0m         \u001b[0mtime\u001b[0m\u001b[0;34m.\u001b[0m\u001b[0msleep\u001b[0m\u001b[0;34m(\u001b[0m\u001b[0;36m20\u001b[0m\u001b[0;34m)\u001b[0m\u001b[0;34m\u001b[0m\u001b[0;34m\u001b[0m\u001b[0m\n\u001b[0;32m----> 7\u001b[0;31m         \u001b[0mrow\u001b[0m \u001b[0;34m=\u001b[0m \u001b[0mpage_parser\u001b[0m\u001b[0;34m(\u001b[0m\u001b[0mBeautifulSoup\u001b[0m\u001b[0;34m(\u001b[0m\u001b[0mdriver\u001b[0m\u001b[0;34m.\u001b[0m\u001b[0mpage_source\u001b[0m\u001b[0;34m,\u001b[0m\u001b[0;34m'html.parser'\u001b[0m\u001b[0;34m)\u001b[0m\u001b[0;34m,\u001b[0m\u001b[0murl\u001b[0m\u001b[0;34m)\u001b[0m\u001b[0;34m\u001b[0m\u001b[0;34m\u001b[0m\u001b[0m\n\u001b[0m\u001b[1;32m      8\u001b[0m         \u001b[0mdf\u001b[0m \u001b[0;34m=\u001b[0m \u001b[0mdf\u001b[0m\u001b[0;34m.\u001b[0m\u001b[0mappend\u001b[0m\u001b[0;34m(\u001b[0m\u001b[0mrow\u001b[0m\u001b[0;34m,\u001b[0m \u001b[0mignore_index\u001b[0m\u001b[0;34m=\u001b[0m\u001b[0;32mTrue\u001b[0m\u001b[0;34m)\u001b[0m\u001b[0;34m\u001b[0m\u001b[0;34m\u001b[0m\u001b[0m\n\u001b[1;32m      9\u001b[0m     \u001b[0;32mreturn\u001b[0m \u001b[0mdf\u001b[0m\u001b[0;34m\u001b[0m\u001b[0;34m\u001b[0m\u001b[0m\n",
      "\u001b[0;32m<ipython-input-74-78d5b0014596>\u001b[0m in \u001b[0;36mpage_parser\u001b[0;34m(page, url)\u001b[0m\n\u001b[1;32m      5\u001b[0m     \u001b[0mtrail_name\u001b[0m \u001b[0;34m=\u001b[0m \u001b[0mheader\u001b[0m\u001b[0;34m.\u001b[0m\u001b[0mfind\u001b[0m\u001b[0;34m(\u001b[0m\u001b[0;34m'h1'\u001b[0m\u001b[0;34m)\u001b[0m\u001b[0;34m.\u001b[0m\u001b[0mtext\u001b[0m\u001b[0;34m\u001b[0m\u001b[0;34m\u001b[0m\u001b[0m\n\u001b[1;32m      6\u001b[0m     \u001b[0mdifficulty\u001b[0m \u001b[0;34m=\u001b[0m \u001b[0mheader\u001b[0m\u001b[0;34m.\u001b[0m\u001b[0mfind\u001b[0m\u001b[0;34m(\u001b[0m\u001b[0;34m'span'\u001b[0m\u001b[0;34m)\u001b[0m\u001b[0;34m.\u001b[0m\u001b[0mtext\u001b[0m\u001b[0;34m\u001b[0m\u001b[0;34m\u001b[0m\u001b[0m\n\u001b[0;32m----> 7\u001b[0;31m     \u001b[0mrating\u001b[0m \u001b[0;34m=\u001b[0m \u001b[0mheader\u001b[0m\u001b[0;34m.\u001b[0m\u001b[0mfind\u001b[0m\u001b[0;34m(\u001b[0m\u001b[0;34m'span'\u001b[0m\u001b[0;34m,\u001b[0m \u001b[0mitemprop\u001b[0m\u001b[0;34m=\u001b[0m\u001b[0;34m'ratingValue'\u001b[0m\u001b[0;34m)\u001b[0m\u001b[0;34m.\u001b[0m\u001b[0mtext\u001b[0m\u001b[0;34m\u001b[0m\u001b[0;34m\u001b[0m\u001b[0m\n\u001b[0m\u001b[1;32m      8\u001b[0m     \u001b[0mreviews\u001b[0m \u001b[0;34m=\u001b[0m \u001b[0mheader\u001b[0m\u001b[0;34m.\u001b[0m\u001b[0mfind\u001b[0m\u001b[0;34m(\u001b[0m\u001b[0;34m'span'\u001b[0m\u001b[0;34m,\u001b[0m \u001b[0mitemprop\u001b[0m\u001b[0;34m=\u001b[0m\u001b[0;34m'reviewCount'\u001b[0m\u001b[0;34m)\u001b[0m\u001b[0;34m.\u001b[0m\u001b[0mtext\u001b[0m\u001b[0;34m\u001b[0m\u001b[0;34m\u001b[0m\u001b[0m\n\u001b[1;32m      9\u001b[0m \u001b[0;31m#     loc = trail.find('a', attrs = {'class':'xlate-none styles-module__location___11FHK styles-module__location___3wEnO'})['title']\u001b[0m\u001b[0;34m\u001b[0m\u001b[0;34m\u001b[0m\u001b[0;34m\u001b[0m\u001b[0m\n",
      "\u001b[0;31mAttributeError\u001b[0m: 'NoneType' object has no attribute 'text'"
     ]
    }
   ],
   "source": [
    "firefox_profile = webdriver.FirefoxProfile()\n",
    "firefox_profile.set_preference(\"browser.privatebrowsing.autostart\", True)\n",
    "\n",
    "\n",
    "driver=webdriver.Firefox(executable_path=\"/usr/bin/geckodriver\", firefox_profile=firefox_profile)\n",
    "db = create_db(soup, driver)"
   ]
  }
 ],
 "metadata": {
  "kernelspec": {
   "display_name": "Python 3",
   "language": "python",
   "name": "python3"
  },
  "language_info": {
   "codemirror_mode": {
    "name": "ipython",
    "version": 3
   },
   "file_extension": ".py",
   "mimetype": "text/x-python",
   "name": "python",
   "nbconvert_exporter": "python",
   "pygments_lexer": "ipython3",
   "version": "3.8.10"
  }
 },
 "nbformat": 4,
 "nbformat_minor": 5
}
