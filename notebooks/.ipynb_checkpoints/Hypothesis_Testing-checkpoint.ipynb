{
 "cells": [
  {
   "cell_type": "markdown",
   "id": "bc115fe6",
   "metadata": {},
   "source": [
    "# Hypothesis Testing"
   ]
  },
  {
   "cell_type": "code",
   "execution_count": 178,
   "id": "80a38c65",
   "metadata": {},
   "outputs": [],
   "source": [
    "import pandas as pd\n",
    "import numpy as np\n",
    "import matplotlib.pyplot as plt\n",
    "import seaborn as sn\n",
    "from scipy import stats\n",
    "plt.style.use('ggplot')"
   ]
  },
  {
   "cell_type": "code",
   "execution_count": 248,
   "id": "a06e37ab",
   "metadata": {},
   "outputs": [],
   "source": [
    "summer = plt.cm.summer(np.linspace(1, 0, 12))\n",
    "color_list = plt.cm.Set3(np.linspace(0, 1, 12))"
   ]
  },
  {
   "cell_type": "code",
   "execution_count": 23,
   "id": "f9d8ede9",
   "metadata": {},
   "outputs": [
    {
     "data": {
      "text/html": [
       "<div>\n",
       "<style scoped>\n",
       "    .dataframe tbody tr th:only-of-type {\n",
       "        vertical-align: middle;\n",
       "    }\n",
       "\n",
       "    .dataframe tbody tr th {\n",
       "        vertical-align: top;\n",
       "    }\n",
       "\n",
       "    .dataframe thead th {\n",
       "        text-align: right;\n",
       "    }\n",
       "</style>\n",
       "<table border=\"1\" class=\"dataframe\">\n",
       "  <thead>\n",
       "    <tr style=\"text-align: right;\">\n",
       "      <th></th>\n",
       "      <th>Unnamed: 0</th>\n",
       "      <th>hike_name</th>\n",
       "      <th>hike_region</th>\n",
       "      <th>total_distance</th>\n",
       "      <th>elevation_gain</th>\n",
       "      <th>hike_difficulty</th>\n",
       "      <th>stars</th>\n",
       "      <th>hike_id</th>\n",
       "      <th>loop</th>\n",
       "      <th>out_and_back</th>\n",
       "      <th>...</th>\n",
       "      <th>kid_friendly</th>\n",
       "      <th>camping</th>\n",
       "      <th>waterfall</th>\n",
       "      <th>river</th>\n",
       "      <th>lake</th>\n",
       "      <th>wildflowers</th>\n",
       "      <th>wildlife</th>\n",
       "      <th>views</th>\n",
       "      <th>reviews</th>\n",
       "      <th>mean rating</th>\n",
       "    </tr>\n",
       "  </thead>\n",
       "  <tbody>\n",
       "    <tr>\n",
       "      <th>0</th>\n",
       "      <td>0</td>\n",
       "      <td>Maxwell Falls Lower Trail</td>\n",
       "      <td>Arapaho National Forest</td>\n",
       "      <td>4.2</td>\n",
       "      <td>1008</td>\n",
       "      <td>2</td>\n",
       "      <td>3.9</td>\n",
       "      <td>hike0</td>\n",
       "      <td>1</td>\n",
       "      <td>0</td>\n",
       "      <td>...</td>\n",
       "      <td>0</td>\n",
       "      <td>1</td>\n",
       "      <td>1</td>\n",
       "      <td>1</td>\n",
       "      <td>0</td>\n",
       "      <td>1</td>\n",
       "      <td>0</td>\n",
       "      <td>0</td>\n",
       "      <td>372</td>\n",
       "      <td>3.849462</td>\n",
       "    </tr>\n",
       "    <tr>\n",
       "      <th>1</th>\n",
       "      <td>1</td>\n",
       "      <td>Royal Arch Trail</td>\n",
       "      <td>Chautauqua Park</td>\n",
       "      <td>3.4</td>\n",
       "      <td>1651</td>\n",
       "      <td>3</td>\n",
       "      <td>4.4</td>\n",
       "      <td>hike1</td>\n",
       "      <td>0</td>\n",
       "      <td>1</td>\n",
       "      <td>...</td>\n",
       "      <td>0</td>\n",
       "      <td>0</td>\n",
       "      <td>0</td>\n",
       "      <td>0</td>\n",
       "      <td>0</td>\n",
       "      <td>1</td>\n",
       "      <td>0</td>\n",
       "      <td>1</td>\n",
       "      <td>391</td>\n",
       "      <td>4.375959</td>\n",
       "    </tr>\n",
       "    <tr>\n",
       "      <th>2</th>\n",
       "      <td>2</td>\n",
       "      <td>Beaver Brook /Chavez Trail Loop</td>\n",
       "      <td>Genesee Park</td>\n",
       "      <td>3.9</td>\n",
       "      <td>1008</td>\n",
       "      <td>2</td>\n",
       "      <td>4.4</td>\n",
       "      <td>hike2</td>\n",
       "      <td>1</td>\n",
       "      <td>0</td>\n",
       "      <td>...</td>\n",
       "      <td>0</td>\n",
       "      <td>0</td>\n",
       "      <td>1</td>\n",
       "      <td>1</td>\n",
       "      <td>0</td>\n",
       "      <td>0</td>\n",
       "      <td>1</td>\n",
       "      <td>0</td>\n",
       "      <td>288</td>\n",
       "      <td>4.371528</td>\n",
       "    </tr>\n",
       "    <tr>\n",
       "      <th>3</th>\n",
       "      <td>3</td>\n",
       "      <td>The Incline Trail</td>\n",
       "      <td>Manitou Park Recreation Area</td>\n",
       "      <td>3.6</td>\n",
       "      <td>1976</td>\n",
       "      <td>3</td>\n",
       "      <td>4.7</td>\n",
       "      <td>hike3</td>\n",
       "      <td>1</td>\n",
       "      <td>0</td>\n",
       "      <td>...</td>\n",
       "      <td>0</td>\n",
       "      <td>0</td>\n",
       "      <td>0</td>\n",
       "      <td>0</td>\n",
       "      <td>0</td>\n",
       "      <td>1</td>\n",
       "      <td>1</td>\n",
       "      <td>1</td>\n",
       "      <td>389</td>\n",
       "      <td>4.670951</td>\n",
       "    </tr>\n",
       "    <tr>\n",
       "      <th>4</th>\n",
       "      <td>4</td>\n",
       "      <td>Emerald Lake Trail</td>\n",
       "      <td>Rocky Mountain National Park</td>\n",
       "      <td>3.3</td>\n",
       "      <td>767</td>\n",
       "      <td>1</td>\n",
       "      <td>4.6</td>\n",
       "      <td>hike4</td>\n",
       "      <td>0</td>\n",
       "      <td>1</td>\n",
       "      <td>...</td>\n",
       "      <td>1</td>\n",
       "      <td>0</td>\n",
       "      <td>0</td>\n",
       "      <td>1</td>\n",
       "      <td>1</td>\n",
       "      <td>1</td>\n",
       "      <td>1</td>\n",
       "      <td>1</td>\n",
       "      <td>266</td>\n",
       "      <td>4.616541</td>\n",
       "    </tr>\n",
       "    <tr>\n",
       "      <th>...</th>\n",
       "      <td>...</td>\n",
       "      <td>...</td>\n",
       "      <td>...</td>\n",
       "      <td>...</td>\n",
       "      <td>...</td>\n",
       "      <td>...</td>\n",
       "      <td>...</td>\n",
       "      <td>...</td>\n",
       "      <td>...</td>\n",
       "      <td>...</td>\n",
       "      <td>...</td>\n",
       "      <td>...</td>\n",
       "      <td>...</td>\n",
       "      <td>...</td>\n",
       "      <td>...</td>\n",
       "      <td>...</td>\n",
       "      <td>...</td>\n",
       "      <td>...</td>\n",
       "      <td>...</td>\n",
       "      <td>...</td>\n",
       "      <td>...</td>\n",
       "    </tr>\n",
       "    <tr>\n",
       "      <th>1482</th>\n",
       "      <td>1482</td>\n",
       "      <td>Foothills Nature Trail to CCC Shelter</td>\n",
       "      <td>Roosevelt National Forest</td>\n",
       "      <td>2.0</td>\n",
       "      <td>498</td>\n",
       "      <td>1</td>\n",
       "      <td>3.0</td>\n",
       "      <td>hike1482</td>\n",
       "      <td>0</td>\n",
       "      <td>1</td>\n",
       "      <td>...</td>\n",
       "      <td>0</td>\n",
       "      <td>0</td>\n",
       "      <td>0</td>\n",
       "      <td>1</td>\n",
       "      <td>0</td>\n",
       "      <td>1</td>\n",
       "      <td>1</td>\n",
       "      <td>1</td>\n",
       "      <td>1</td>\n",
       "      <td>3.000000</td>\n",
       "    </tr>\n",
       "    <tr>\n",
       "      <th>1483</th>\n",
       "      <td>1483</td>\n",
       "      <td>Sinton Trail</td>\n",
       "      <td>Roswell, Colorado</td>\n",
       "      <td>5.6</td>\n",
       "      <td>374</td>\n",
       "      <td>1</td>\n",
       "      <td>4.0</td>\n",
       "      <td>hike1483</td>\n",
       "      <td>0</td>\n",
       "      <td>1</td>\n",
       "      <td>...</td>\n",
       "      <td>1</td>\n",
       "      <td>0</td>\n",
       "      <td>0</td>\n",
       "      <td>0</td>\n",
       "      <td>0</td>\n",
       "      <td>1</td>\n",
       "      <td>1</td>\n",
       "      <td>1</td>\n",
       "      <td>1</td>\n",
       "      <td>4.000000</td>\n",
       "    </tr>\n",
       "    <tr>\n",
       "      <th>1484</th>\n",
       "      <td>1484</td>\n",
       "      <td>Uncompahgre River Walk</td>\n",
       "      <td>Montrose, Colorado</td>\n",
       "      <td>14.4</td>\n",
       "      <td>411</td>\n",
       "      <td>1</td>\n",
       "      <td>3.0</td>\n",
       "      <td>hike1484</td>\n",
       "      <td>0</td>\n",
       "      <td>1</td>\n",
       "      <td>...</td>\n",
       "      <td>1</td>\n",
       "      <td>0</td>\n",
       "      <td>0</td>\n",
       "      <td>1</td>\n",
       "      <td>0</td>\n",
       "      <td>0</td>\n",
       "      <td>1</td>\n",
       "      <td>1</td>\n",
       "      <td>1</td>\n",
       "      <td>3.000000</td>\n",
       "    </tr>\n",
       "    <tr>\n",
       "      <th>1485</th>\n",
       "      <td>1485</td>\n",
       "      <td>Mayhoffer Trail Loop</td>\n",
       "      <td>Superior, Colorado</td>\n",
       "      <td>10.8</td>\n",
       "      <td>872</td>\n",
       "      <td>1</td>\n",
       "      <td>2.0</td>\n",
       "      <td>hike1485</td>\n",
       "      <td>1</td>\n",
       "      <td>0</td>\n",
       "      <td>...</td>\n",
       "      <td>1</td>\n",
       "      <td>0</td>\n",
       "      <td>0</td>\n",
       "      <td>0</td>\n",
       "      <td>0</td>\n",
       "      <td>0</td>\n",
       "      <td>0</td>\n",
       "      <td>0</td>\n",
       "      <td>1</td>\n",
       "      <td>2.000000</td>\n",
       "    </tr>\n",
       "    <tr>\n",
       "      <th>1486</th>\n",
       "      <td>1486</td>\n",
       "      <td>River Ponds Trail Loop trail</td>\n",
       "      <td>Fort Collins, Colorado</td>\n",
       "      <td>2.0</td>\n",
       "      <td>14</td>\n",
       "      <td>1</td>\n",
       "      <td>4.0</td>\n",
       "      <td>hike1486</td>\n",
       "      <td>1</td>\n",
       "      <td>0</td>\n",
       "      <td>...</td>\n",
       "      <td>0</td>\n",
       "      <td>0</td>\n",
       "      <td>0</td>\n",
       "      <td>0</td>\n",
       "      <td>1</td>\n",
       "      <td>1</td>\n",
       "      <td>1</td>\n",
       "      <td>1</td>\n",
       "      <td>1</td>\n",
       "      <td>4.000000</td>\n",
       "    </tr>\n",
       "  </tbody>\n",
       "</table>\n",
       "<p>1487 rows × 22 columns</p>\n",
       "</div>"
      ],
      "text/plain": [
       "      Unnamed: 0                              hike_name  \\\n",
       "0              0              Maxwell Falls Lower Trail   \n",
       "1              1                       Royal Arch Trail   \n",
       "2              2        Beaver Brook /Chavez Trail Loop   \n",
       "3              3                      The Incline Trail   \n",
       "4              4                     Emerald Lake Trail   \n",
       "...          ...                                    ...   \n",
       "1482        1482  Foothills Nature Trail to CCC Shelter   \n",
       "1483        1483                           Sinton Trail   \n",
       "1484        1484                 Uncompahgre River Walk   \n",
       "1485        1485                   Mayhoffer Trail Loop   \n",
       "1486        1486           River Ponds Trail Loop trail   \n",
       "\n",
       "                       hike_region  total_distance  elevation_gain  \\\n",
       "0          Arapaho National Forest             4.2            1008   \n",
       "1                  Chautauqua Park             3.4            1651   \n",
       "2                     Genesee Park             3.9            1008   \n",
       "3     Manitou Park Recreation Area             3.6            1976   \n",
       "4     Rocky Mountain National Park             3.3             767   \n",
       "...                            ...             ...             ...   \n",
       "1482     Roosevelt National Forest             2.0             498   \n",
       "1483             Roswell, Colorado             5.6             374   \n",
       "1484            Montrose, Colorado            14.4             411   \n",
       "1485            Superior, Colorado            10.8             872   \n",
       "1486        Fort Collins, Colorado             2.0              14   \n",
       "\n",
       "      hike_difficulty  stars   hike_id  loop  out_and_back  ...  kid_friendly  \\\n",
       "0                   2    3.9     hike0     1             0  ...             0   \n",
       "1                   3    4.4     hike1     0             1  ...             0   \n",
       "2                   2    4.4     hike2     1             0  ...             0   \n",
       "3                   3    4.7     hike3     1             0  ...             0   \n",
       "4                   1    4.6     hike4     0             1  ...             1   \n",
       "...               ...    ...       ...   ...           ...  ...           ...   \n",
       "1482                1    3.0  hike1482     0             1  ...             0   \n",
       "1483                1    4.0  hike1483     0             1  ...             1   \n",
       "1484                1    3.0  hike1484     0             1  ...             1   \n",
       "1485                1    2.0  hike1485     1             0  ...             1   \n",
       "1486                1    4.0  hike1486     1             0  ...             0   \n",
       "\n",
       "      camping  waterfall  river  lake  wildflowers  wildlife  views  reviews  \\\n",
       "0           1          1      1     0            1         0      0      372   \n",
       "1           0          0      0     0            1         0      1      391   \n",
       "2           0          1      1     0            0         1      0      288   \n",
       "3           0          0      0     0            1         1      1      389   \n",
       "4           0          0      1     1            1         1      1      266   \n",
       "...       ...        ...    ...   ...          ...       ...    ...      ...   \n",
       "1482        0          0      1     0            1         1      1        1   \n",
       "1483        0          0      0     0            1         1      1        1   \n",
       "1484        0          0      1     0            0         1      1        1   \n",
       "1485        0          0      0     0            0         0      0        1   \n",
       "1486        0          0      0     1            1         1      1        1   \n",
       "\n",
       "      mean rating  \n",
       "0        3.849462  \n",
       "1        4.375959  \n",
       "2        4.371528  \n",
       "3        4.670951  \n",
       "4        4.616541  \n",
       "...           ...  \n",
       "1482     3.000000  \n",
       "1483     4.000000  \n",
       "1484     3.000000  \n",
       "1485     2.000000  \n",
       "1486     4.000000  \n",
       "\n",
       "[1487 rows x 22 columns]"
      ]
     },
     "execution_count": 23,
     "metadata": {},
     "output_type": "execute_result"
    }
   ],
   "source": [
    "df = pd.read_csv('../data/hikes_with_ratings.csv')\n",
    "df"
   ]
  },
  {
   "cell_type": "markdown",
   "id": "ac0f6a9e",
   "metadata": {},
   "source": [
    "## Hypothesis Testing\n",
    "*High rated hikes are on average more difficult than low rated hikes. (difficult = difficulty rating, longer distance, higher elevation gain)* \n",
    "* Null hypothesis: difficulty rating, hike length or total elevation gain have no effect on hike rating.\n",
    "\n",
    "*Popular hikes (most reviews) feature waterfalls and wildflowers.* \n",
    "* Null hypothesis: popular hikes have no distinctive features."
   ]
  },
  {
   "cell_type": "markdown",
   "id": "d4a82d17",
   "metadata": {},
   "source": [
    "First, I will look at the distribution of trail ratings for each category of difficulty (easy,moderate,hard)"
   ]
  },
  {
   "cell_type": "code",
   "execution_count": 241,
   "id": "33b07200",
   "metadata": {},
   "outputs": [
    {
     "data": {
      "text/plain": [
       "count    458.000000\n",
       "mean       3.867579\n",
       "std        0.644355\n",
       "min        1.000000\n",
       "25%        3.500000\n",
       "50%        4.000000\n",
       "75%        4.250000\n",
       "max        5.000000\n",
       "Name: mean rating, dtype: float64"
      ]
     },
     "execution_count": 241,
     "metadata": {},
     "output_type": "execute_result"
    }
   ],
   "source": [
    "easy = df[df.hike_difficulty==1]['mean rating']\n",
    "easy.describe()"
   ]
  },
  {
   "cell_type": "code",
   "execution_count": 242,
   "id": "b9f710c9",
   "metadata": {},
   "outputs": [
    {
     "data": {
      "text/plain": [
       "count    687.000000\n",
       "mean       4.142211\n",
       "std        0.651521\n",
       "min        1.000000\n",
       "25%        3.950957\n",
       "50%        4.210526\n",
       "75%        4.545455\n",
       "max        5.000000\n",
       "Name: mean rating, dtype: float64"
      ]
     },
     "execution_count": 242,
     "metadata": {},
     "output_type": "execute_result"
    }
   ],
   "source": [
    "mod = df[df.hike_difficulty==2]['mean rating']\n",
    "mod.describe()"
   ]
  },
  {
   "cell_type": "code",
   "execution_count": 243,
   "id": "b32a98d1",
   "metadata": {},
   "outputs": [
    {
     "data": {
      "text/plain": [
       "count    333.000000\n",
       "mean       4.333037\n",
       "std        0.585942\n",
       "min        1.000000\n",
       "25%        4.000000\n",
       "50%        4.434783\n",
       "75%        4.750000\n",
       "max        5.000000\n",
       "Name: mean rating, dtype: float64"
      ]
     },
     "execution_count": 243,
     "metadata": {},
     "output_type": "execute_result"
    }
   ],
   "source": [
    "hard = df[df.hike_difficulty==3]['mean rating']\n",
    "hard.describe()"
   ]
  },
  {
   "cell_type": "code",
   "execution_count": 323,
   "id": "bfccf46f",
   "metadata": {},
   "outputs": [
    {
     "data": {
      "image/png": "[encoded data removed]",
      "text/plain": [
       "<Figure size 1152x288 with 3 Axes>"
      ]
     },
     "metadata": {},
     "output_type": "display_data"
    }
   ],
   "source": [
    "fig, axs = plt.subplots(1,3, figsize=(16,4))\n",
    "axs[0].hist(easy,bins=25,color=summer[4])\n",
    "axs[0].set_title('Easy Difficulty')\n",
    "axs[0].set_ylabel('# of trails')\n",
    "axs[0].vlines(x=easy.mean(),ymin=0,ymax=90,linestyle='dashed')\n",
    "axs[1].hist(mod,bins=25,color=summer[8])\n",
    "axs[1].set_title('Medium Difficulty')\n",
    "axs[1].set_xlabel('Rating')\n",
    "axs[1].vlines(x=mod.mean(),ymin=0,ymax=125,linestyle='dashed')\n",
    "axs[2].hist(hard,bins=25,color=summer[11])\n",
    "axs[2].set_title('Hard Difficulty')\n",
    "axs[2].vlines(x=hard.mean(),ymin=0,ymax=72,linestyle='dashed')\n",
    "#fig.savefig('../images/difficulty_distro.png', dpi=200)"
   ]
  },
  {
   "cell_type": "markdown",
   "id": "f069621b",
   "metadata": {},
   "source": [
    "Before I begin Hypothesis Testing, I need to determine if my samples are normally distributed. Using the Shapiro-Wilk test:"
   ]
  },
  {
   "cell_type": "code",
   "execution_count": 12,
   "id": "43badc10",
   "metadata": {},
   "outputs": [
    {
     "data": {
      "text/plain": [
       "ShapiroResult(statistic=0.9117082357406616, pvalue=1.4990736926386758e-28)"
      ]
     },
     "execution_count": 12,
     "metadata": {},
     "output_type": "execute_result"
    }
   ],
   "source": [
    "ratings_shapiro_test = stats.shapiro(df['mean rating'])\n",
    "ratings_shapiro_test"
   ]
  },
  {
   "cell_type": "code",
   "execution_count": 25,
   "id": "721855b8",
   "metadata": {},
   "outputs": [
    {
     "data": {
      "text/plain": [
       "<AxesSubplot:>"
      ]
     },
     "execution_count": 25,
     "metadata": {},
     "output_type": "execute_result"
    },
    {
     "data": {
      "image/png": "[encoded data removed]",
      "text/plain": [
       "<Figure size 432x288 with 1 Axes>"
      ]
     },
     "metadata": {
      "needs_background": "light"
     },
     "output_type": "display_data"
    }
   ],
   "source": [
    "df['mean rating'].plot(kind='box',title='')"
   ]
  },
  {
   "cell_type": "code",
   "execution_count": 143,
   "id": "97195b3a",
   "metadata": {},
   "outputs": [
    {
     "data": {
      "text/plain": [
       "ShapiroResult(statistic=0.42691195011138916, pvalue=0.0)"
      ]
     },
     "execution_count": 143,
     "metadata": {},
     "output_type": "execute_result"
    }
   ],
   "source": [
    "reviews_shapiro_test = stats.shapiro(df['reviews'])\n",
    "reviews_shapiro_test"
   ]
  },
  {
   "cell_type": "code",
   "execution_count": 144,
   "id": "09703b45",
   "metadata": {},
   "outputs": [
    {
     "data": {
      "text/plain": [
       "<AxesSubplot:>"
      ]
     },
     "execution_count": 144,
     "metadata": {},
     "output_type": "execute_result"
    },
    {
     "data": {
      "image/png": "[encoded data removed]",
      "text/plain": [
       "<Figure size 432x288 with 1 Axes>"
      ]
     },
     "metadata": {
      "needs_background": "light"
     },
     "output_type": "display_data"
    }
   ],
   "source": [
    "df['reviews'].plot(kind='box')"
   ]
  },
  {
   "cell_type": "code",
   "execution_count": 24,
   "id": "015cde1d",
   "metadata": {},
   "outputs": [
    {
     "data": {
      "text/plain": [
       "ShapiroResult(statistic=0.531385064125061, pvalue=0.0)"
      ]
     },
     "execution_count": 24,
     "metadata": {},
     "output_type": "execute_result"
    }
   ],
   "source": [
    "length_shapiro_test = stats.shapiro(df['total_distance'])\n",
    "length_shapiro_test"
   ]
  },
  {
   "cell_type": "code",
   "execution_count": 26,
   "id": "c90a242d",
   "metadata": {},
   "outputs": [
    {
     "data": {
      "text/plain": [
       "<AxesSubplot:>"
      ]
     },
     "execution_count": 26,
     "metadata": {},
     "output_type": "execute_result"
    },
    {
     "data": {
      "image/png": "[encoded data removed]",
      "text/plain": [
       "<Figure size 432x288 with 1 Axes>"
      ]
     },
     "metadata": {
      "needs_background": "light"
     },
     "output_type": "display_data"
    }
   ],
   "source": [
    "df['total_distance'].plot(kind='box')"
   ]
  },
  {
   "cell_type": "markdown",
   "id": "4eec9e55",
   "metadata": {},
   "source": [
    "There's an obvious outlier hike with above 250 miles total distance. We should also filter out hikes with distance=0. Let's remove these and see how the distribution changes."
   ]
  },
  {
   "cell_type": "code",
   "execution_count": 97,
   "id": "0e9e9762",
   "metadata": {},
   "outputs": [
    {
     "data": {
      "text/html": [
       "<div>\n",
       "<style scoped>\n",
       "    .dataframe tbody tr th:only-of-type {\n",
       "        vertical-align: middle;\n",
       "    }\n",
       "\n",
       "    .dataframe tbody tr th {\n",
       "        vertical-align: top;\n",
       "    }\n",
       "\n",
       "    .dataframe thead th {\n",
       "        text-align: right;\n",
       "    }\n",
       "</style>\n",
       "<table border=\"1\" class=\"dataframe\">\n",
       "  <thead>\n",
       "    <tr style=\"text-align: right;\">\n",
       "      <th></th>\n",
       "      <th>Unnamed: 0</th>\n",
       "      <th>hike_name</th>\n",
       "      <th>hike_region</th>\n",
       "      <th>total_distance</th>\n",
       "      <th>elevation_gain</th>\n",
       "      <th>hike_difficulty</th>\n",
       "      <th>stars</th>\n",
       "      <th>hike_id</th>\n",
       "      <th>loop</th>\n",
       "      <th>out_and_back</th>\n",
       "      <th>...</th>\n",
       "      <th>kid_friendly</th>\n",
       "      <th>camping</th>\n",
       "      <th>waterfall</th>\n",
       "      <th>river</th>\n",
       "      <th>lake</th>\n",
       "      <th>wildflowers</th>\n",
       "      <th>wildlife</th>\n",
       "      <th>views</th>\n",
       "      <th>reviews</th>\n",
       "      <th>mean rating</th>\n",
       "    </tr>\n",
       "  </thead>\n",
       "  <tbody>\n",
       "    <tr>\n",
       "      <th>0</th>\n",
       "      <td>0</td>\n",
       "      <td>Maxwell Falls Lower Trail</td>\n",
       "      <td>Arapaho National Forest</td>\n",
       "      <td>4.2</td>\n",
       "      <td>1008</td>\n",
       "      <td>2</td>\n",
       "      <td>3.9</td>\n",
       "      <td>hike0</td>\n",
       "      <td>1</td>\n",
       "      <td>0</td>\n",
       "      <td>...</td>\n",
       "      <td>0</td>\n",
       "      <td>1</td>\n",
       "      <td>1</td>\n",
       "      <td>1</td>\n",
       "      <td>0</td>\n",
       "      <td>1</td>\n",
       "      <td>0</td>\n",
       "      <td>0</td>\n",
       "      <td>372</td>\n",
       "      <td>3.849462</td>\n",
       "    </tr>\n",
       "    <tr>\n",
       "      <th>1</th>\n",
       "      <td>1</td>\n",
       "      <td>Royal Arch Trail</td>\n",
       "      <td>Chautauqua Park</td>\n",
       "      <td>3.4</td>\n",
       "      <td>1651</td>\n",
       "      <td>3</td>\n",
       "      <td>4.4</td>\n",
       "      <td>hike1</td>\n",
       "      <td>0</td>\n",
       "      <td>1</td>\n",
       "      <td>...</td>\n",
       "      <td>0</td>\n",
       "      <td>0</td>\n",
       "      <td>0</td>\n",
       "      <td>0</td>\n",
       "      <td>0</td>\n",
       "      <td>1</td>\n",
       "      <td>0</td>\n",
       "      <td>1</td>\n",
       "      <td>391</td>\n",
       "      <td>4.375959</td>\n",
       "    </tr>\n",
       "    <tr>\n",
       "      <th>2</th>\n",
       "      <td>2</td>\n",
       "      <td>Beaver Brook /Chavez Trail Loop</td>\n",
       "      <td>Genesee Park</td>\n",
       "      <td>3.9</td>\n",
       "      <td>1008</td>\n",
       "      <td>2</td>\n",
       "      <td>4.4</td>\n",
       "      <td>hike2</td>\n",
       "      <td>1</td>\n",
       "      <td>0</td>\n",
       "      <td>...</td>\n",
       "      <td>0</td>\n",
       "      <td>0</td>\n",
       "      <td>1</td>\n",
       "      <td>1</td>\n",
       "      <td>0</td>\n",
       "      <td>0</td>\n",
       "      <td>1</td>\n",
       "      <td>0</td>\n",
       "      <td>288</td>\n",
       "      <td>4.371528</td>\n",
       "    </tr>\n",
       "    <tr>\n",
       "      <th>3</th>\n",
       "      <td>3</td>\n",
       "      <td>The Incline Trail</td>\n",
       "      <td>Manitou Park Recreation Area</td>\n",
       "      <td>3.6</td>\n",
       "      <td>1976</td>\n",
       "      <td>3</td>\n",
       "      <td>4.7</td>\n",
       "      <td>hike3</td>\n",
       "      <td>1</td>\n",
       "      <td>0</td>\n",
       "      <td>...</td>\n",
       "      <td>0</td>\n",
       "      <td>0</td>\n",
       "      <td>0</td>\n",
       "      <td>0</td>\n",
       "      <td>0</td>\n",
       "      <td>1</td>\n",
       "      <td>1</td>\n",
       "      <td>1</td>\n",
       "      <td>389</td>\n",
       "      <td>4.670951</td>\n",
       "    </tr>\n",
       "    <tr>\n",
       "      <th>4</th>\n",
       "      <td>4</td>\n",
       "      <td>Emerald Lake Trail</td>\n",
       "      <td>Rocky Mountain National Park</td>\n",
       "      <td>3.3</td>\n",
       "      <td>767</td>\n",
       "      <td>1</td>\n",
       "      <td>4.6</td>\n",
       "      <td>hike4</td>\n",
       "      <td>0</td>\n",
       "      <td>1</td>\n",
       "      <td>...</td>\n",
       "      <td>1</td>\n",
       "      <td>0</td>\n",
       "      <td>0</td>\n",
       "      <td>1</td>\n",
       "      <td>1</td>\n",
       "      <td>1</td>\n",
       "      <td>1</td>\n",
       "      <td>1</td>\n",
       "      <td>266</td>\n",
       "      <td>4.616541</td>\n",
       "    </tr>\n",
       "    <tr>\n",
       "      <th>...</th>\n",
       "      <td>...</td>\n",
       "      <td>...</td>\n",
       "      <td>...</td>\n",
       "      <td>...</td>\n",
       "      <td>...</td>\n",
       "      <td>...</td>\n",
       "      <td>...</td>\n",
       "      <td>...</td>\n",
       "      <td>...</td>\n",
       "      <td>...</td>\n",
       "      <td>...</td>\n",
       "      <td>...</td>\n",
       "      <td>...</td>\n",
       "      <td>...</td>\n",
       "      <td>...</td>\n",
       "      <td>...</td>\n",
       "      <td>...</td>\n",
       "      <td>...</td>\n",
       "      <td>...</td>\n",
       "      <td>...</td>\n",
       "      <td>...</td>\n",
       "    </tr>\n",
       "    <tr>\n",
       "      <th>1482</th>\n",
       "      <td>1482</td>\n",
       "      <td>Foothills Nature Trail to CCC Shelter</td>\n",
       "      <td>Roosevelt National Forest</td>\n",
       "      <td>2.0</td>\n",
       "      <td>498</td>\n",
       "      <td>1</td>\n",
       "      <td>3.0</td>\n",
       "      <td>hike1482</td>\n",
       "      <td>0</td>\n",
       "      <td>1</td>\n",
       "      <td>...</td>\n",
       "      <td>0</td>\n",
       "      <td>0</td>\n",
       "      <td>0</td>\n",
       "      <td>1</td>\n",
       "      <td>0</td>\n",
       "      <td>1</td>\n",
       "      <td>1</td>\n",
       "      <td>1</td>\n",
       "      <td>1</td>\n",
       "      <td>3.000000</td>\n",
       "    </tr>\n",
       "    <tr>\n",
       "      <th>1483</th>\n",
       "      <td>1483</td>\n",
       "      <td>Sinton Trail</td>\n",
       "      <td>Roswell, Colorado</td>\n",
       "      <td>5.6</td>\n",
       "      <td>374</td>\n",
       "      <td>1</td>\n",
       "      <td>4.0</td>\n",
       "      <td>hike1483</td>\n",
       "      <td>0</td>\n",
       "      <td>1</td>\n",
       "      <td>...</td>\n",
       "      <td>1</td>\n",
       "      <td>0</td>\n",
       "      <td>0</td>\n",
       "      <td>0</td>\n",
       "      <td>0</td>\n",
       "      <td>1</td>\n",
       "      <td>1</td>\n",
       "      <td>1</td>\n",
       "      <td>1</td>\n",
       "      <td>4.000000</td>\n",
       "    </tr>\n",
       "    <tr>\n",
       "      <th>1484</th>\n",
       "      <td>1484</td>\n",
       "      <td>Uncompahgre River Walk</td>\n",
       "      <td>Montrose, Colorado</td>\n",
       "      <td>14.4</td>\n",
       "      <td>411</td>\n",
       "      <td>1</td>\n",
       "      <td>3.0</td>\n",
       "      <td>hike1484</td>\n",
       "      <td>0</td>\n",
       "      <td>1</td>\n",
       "      <td>...</td>\n",
       "      <td>1</td>\n",
       "      <td>0</td>\n",
       "      <td>0</td>\n",
       "      <td>1</td>\n",
       "      <td>0</td>\n",
       "      <td>0</td>\n",
       "      <td>1</td>\n",
       "      <td>1</td>\n",
       "      <td>1</td>\n",
       "      <td>3.000000</td>\n",
       "    </tr>\n",
       "    <tr>\n",
       "      <th>1485</th>\n",
       "      <td>1485</td>\n",
       "      <td>Mayhoffer Trail Loop</td>\n",
       "      <td>Superior, Colorado</td>\n",
       "      <td>10.8</td>\n",
       "      <td>872</td>\n",
       "      <td>1</td>\n",
       "      <td>2.0</td>\n",
       "      <td>hike1485</td>\n",
       "      <td>1</td>\n",
       "      <td>0</td>\n",
       "      <td>...</td>\n",
       "      <td>1</td>\n",
       "      <td>0</td>\n",
       "      <td>0</td>\n",
       "      <td>0</td>\n",
       "      <td>0</td>\n",
       "      <td>0</td>\n",
       "      <td>0</td>\n",
       "      <td>0</td>\n",
       "      <td>1</td>\n",
       "      <td>2.000000</td>\n",
       "    </tr>\n",
       "    <tr>\n",
       "      <th>1486</th>\n",
       "      <td>1486</td>\n",
       "      <td>River Ponds Trail Loop trail</td>\n",
       "      <td>Fort Collins, Colorado</td>\n",
       "      <td>2.0</td>\n",
       "      <td>14</td>\n",
       "      <td>1</td>\n",
       "      <td>4.0</td>\n",
       "      <td>hike1486</td>\n",
       "      <td>1</td>\n",
       "      <td>0</td>\n",
       "      <td>...</td>\n",
       "      <td>0</td>\n",
       "      <td>0</td>\n",
       "      <td>0</td>\n",
       "      <td>0</td>\n",
       "      <td>1</td>\n",
       "      <td>1</td>\n",
       "      <td>1</td>\n",
       "      <td>1</td>\n",
       "      <td>1</td>\n",
       "      <td>4.000000</td>\n",
       "    </tr>\n",
       "  </tbody>\n",
       "</table>\n",
       "<p>1478 rows × 22 columns</p>\n",
       "</div>"
      ],
      "text/plain": [
       "      Unnamed: 0                              hike_name  \\\n",
       "0              0              Maxwell Falls Lower Trail   \n",
       "1              1                       Royal Arch Trail   \n",
       "2              2        Beaver Brook /Chavez Trail Loop   \n",
       "3              3                      The Incline Trail   \n",
       "4              4                     Emerald Lake Trail   \n",
       "...          ...                                    ...   \n",
       "1482        1482  Foothills Nature Trail to CCC Shelter   \n",
       "1483        1483                           Sinton Trail   \n",
       "1484        1484                 Uncompahgre River Walk   \n",
       "1485        1485                   Mayhoffer Trail Loop   \n",
       "1486        1486           River Ponds Trail Loop trail   \n",
       "\n",
       "                       hike_region  total_distance  elevation_gain  \\\n",
       "0          Arapaho National Forest             4.2            1008   \n",
       "1                  Chautauqua Park             3.4            1651   \n",
       "2                     Genesee Park             3.9            1008   \n",
       "3     Manitou Park Recreation Area             3.6            1976   \n",
       "4     Rocky Mountain National Park             3.3             767   \n",
       "...                            ...             ...             ...   \n",
       "1482     Roosevelt National Forest             2.0             498   \n",
       "1483             Roswell, Colorado             5.6             374   \n",
       "1484            Montrose, Colorado            14.4             411   \n",
       "1485            Superior, Colorado            10.8             872   \n",
       "1486        Fort Collins, Colorado             2.0              14   \n",
       "\n",
       "      hike_difficulty  stars   hike_id  loop  out_and_back  ...  kid_friendly  \\\n",
       "0                   2    3.9     hike0     1             0  ...             0   \n",
       "1                   3    4.4     hike1     0             1  ...             0   \n",
       "2                   2    4.4     hike2     1             0  ...             0   \n",
       "3                   3    4.7     hike3     1             0  ...             0   \n",
       "4                   1    4.6     hike4     0             1  ...             1   \n",
       "...               ...    ...       ...   ...           ...  ...           ...   \n",
       "1482                1    3.0  hike1482     0             1  ...             0   \n",
       "1483                1    4.0  hike1483     0             1  ...             1   \n",
       "1484                1    3.0  hike1484     0             1  ...             1   \n",
       "1485                1    2.0  hike1485     1             0  ...             1   \n",
       "1486                1    4.0  hike1486     1             0  ...             0   \n",
       "\n",
       "      camping  waterfall  river  lake  wildflowers  wildlife  views  reviews  \\\n",
       "0           1          1      1     0            1         0      0      372   \n",
       "1           0          0      0     0            1         0      1      391   \n",
       "2           0          1      1     0            0         1      0      288   \n",
       "3           0          0      0     0            1         1      1      389   \n",
       "4           0          0      1     1            1         1      1      266   \n",
       "...       ...        ...    ...   ...          ...       ...    ...      ...   \n",
       "1482        0          0      1     0            1         1      1        1   \n",
       "1483        0          0      0     0            1         1      1        1   \n",
       "1484        0          0      1     0            0         1      1        1   \n",
       "1485        0          0      0     0            0         0      0        1   \n",
       "1486        0          0      0     1            1         1      1        1   \n",
       "\n",
       "      mean rating  \n",
       "0        3.849462  \n",
       "1        4.375959  \n",
       "2        4.371528  \n",
       "3        4.670951  \n",
       "4        4.616541  \n",
       "...           ...  \n",
       "1482     3.000000  \n",
       "1483     4.000000  \n",
       "1484     3.000000  \n",
       "1485     2.000000  \n",
       "1486     4.000000  \n",
       "\n",
       "[1478 rows x 22 columns]"
      ]
     },
     "execution_count": 97,
     "metadata": {},
     "output_type": "execute_result"
    }
   ],
   "source": [
    "df = df.drop(df['total_distance'].argmax())\n",
    "df = df[df['total_distance']>0]\n",
    "df"
   ]
  },
  {
   "cell_type": "code",
   "execution_count": 98,
   "id": "521d9a19",
   "metadata": {},
   "outputs": [
    {
     "data": {
      "text/plain": [
       "ShapiroResult(statistic=0.8111257553100586, pvalue=1.7836595658974153e-38)"
      ]
     },
     "execution_count": 98,
     "metadata": {},
     "output_type": "execute_result"
    }
   ],
   "source": [
    "stats.shapiro(df['total_distance'])"
   ]
  },
  {
   "cell_type": "code",
   "execution_count": 99,
   "id": "b9e0a33d",
   "metadata": {},
   "outputs": [
    {
     "data": {
      "text/plain": [
       "<AxesSubplot:>"
      ]
     },
     "execution_count": 99,
     "metadata": {},
     "output_type": "execute_result"
    },
    {
     "data": {
      "image/png": "[encoded data removed]",
      "text/plain": [
       "<Figure size 432x288 with 1 Axes>"
      ]
     },
     "metadata": {
      "needs_background": "light"
     },
     "output_type": "display_data"
    }
   ],
   "source": [
    "df['total_distance'].plot(kind='box')"
   ]
  },
  {
   "cell_type": "markdown",
   "id": "035fad6f",
   "metadata": {},
   "source": [
    "This improved the statistic, however the p-value is still exceptionally low (<< 0.05)"
   ]
  },
  {
   "cell_type": "code",
   "execution_count": 100,
   "id": "e04dba94",
   "metadata": {},
   "outputs": [
    {
     "data": {
      "text/plain": [
       "ShapiroResult(statistic=0.8550183176994324, pvalue=8.12110418677547e-35)"
      ]
     },
     "execution_count": 100,
     "metadata": {},
     "output_type": "execute_result"
    }
   ],
   "source": [
    "elevation_shapiro_test = stats.shapiro(df['elevation_gain'])\n",
    "elevation_shapiro_test"
   ]
  },
  {
   "cell_type": "code",
   "execution_count": 101,
   "id": "d3a5ac9a",
   "metadata": {},
   "outputs": [
    {
     "data": {
      "text/plain": [
       "<AxesSubplot:>"
      ]
     },
     "execution_count": 101,
     "metadata": {},
     "output_type": "execute_result"
    },
    {
     "data": {
      "image/png": "[encoded data removed]",
      "text/plain": [
       "<Figure size 432x288 with 1 Axes>"
      ]
     },
     "metadata": {
      "needs_background": "light"
     },
     "output_type": "display_data"
    }
   ],
   "source": [
    "df['elevation_gain'].plot(kind='box')"
   ]
  },
  {
   "cell_type": "markdown",
   "id": "c76f732c",
   "metadata": {},
   "source": [
    "Because none of our features pass the *Shapiro-Wilk test*, I can not confidently say they follow normal distributions. I will attempt to use the Mann-Whitney to test my hypothesis."
   ]
  },
  {
   "cell_type": "markdown",
   "id": "066c15c9",
   "metadata": {},
   "source": [
    "### Are high rated hikes are more likely to be longer, have higher total elevation gain, and be more difficult ?\n",
    "\n",
    "First I need to pick a subsample from my sample of ~1500 hikes in Colorado. "
   ]
  },
  {
   "cell_type": "code",
   "execution_count": 102,
   "id": "bb184544",
   "metadata": {},
   "outputs": [
    {
     "data": {
      "text/plain": [
       "count    1478.000000\n",
       "mean        4.100103\n",
       "std         0.657734\n",
       "min         1.000000\n",
       "25%         3.833333\n",
       "50%         4.127016\n",
       "75%         4.522024\n",
       "max         5.000000\n",
       "Name: mean rating, dtype: float64"
      ]
     },
     "execution_count": 102,
     "metadata": {},
     "output_type": "execute_result"
    }
   ],
   "source": [
    "df['mean rating'].describe()"
   ]
  },
  {
   "cell_type": "markdown",
   "id": "f18d7f1f",
   "metadata": {},
   "source": [
    "### Elevation Gain"
   ]
  },
  {
   "cell_type": "code",
   "execution_count": 103,
   "id": "8ef08ab9",
   "metadata": {},
   "outputs": [
    {
     "data": {
      "text/plain": [
       "1717.5358592692828"
      ]
     },
     "execution_count": 103,
     "metadata": {},
     "output_type": "execute_result"
    }
   ],
   "source": [
    "elevation_mean = df['elevation_gain'].mean()\n",
    "elevation_mean"
   ]
  },
  {
   "cell_type": "code",
   "execution_count": 37,
   "id": "a3924913",
   "metadata": {},
   "outputs": [
    {
     "data": {
      "text/plain": [
       "1577.6054380776131"
      ]
     },
     "execution_count": 37,
     "metadata": {},
     "output_type": "execute_result"
    }
   ],
   "source": [
    "elevation_std = df['elevation_gain'].std()\n",
    "elevation_std"
   ]
  },
  {
   "cell_type": "markdown",
   "id": "542655ea",
   "metadata": {},
   "source": [
    "Because the standard deviation of elevation gain is high, I will sample my data based on ratings. Dividing the data between hikes rated above and below 4.5 stars (above and below the 75 percentile)"
   ]
  },
  {
   "cell_type": "code",
   "execution_count": 135,
   "id": "138cf6b1",
   "metadata": {},
   "outputs": [
    {
     "data": {
      "text/plain": [
       "count      459.000000\n",
       "mean      2427.135076\n",
       "std       1842.811012\n",
       "min         33.000000\n",
       "25%       1054.000000\n",
       "50%       2055.000000\n",
       "75%       3279.500000\n",
       "max      10506.000000\n",
       "Name: elevation_gain, dtype: float64"
      ]
     },
     "execution_count": 135,
     "metadata": {},
     "output_type": "execute_result"
    }
   ],
   "source": [
    "high_rated = df[df['mean rating']>=4.5]\n",
    "high_rated.elevation_gain.describe()"
   ]
  },
  {
   "cell_type": "code",
   "execution_count": 136,
   "id": "e29c86c8",
   "metadata": {},
   "outputs": [
    {
     "data": {
      "text/plain": [
       "count    1019.000000\n",
       "mean     1397.902846\n",
       "std      1328.197390\n",
       "min         0.000000\n",
       "25%       404.500000\n",
       "50%      1047.000000\n",
       "75%      2000.000000\n",
       "max      9171.000000\n",
       "Name: elevation_gain, dtype: float64"
      ]
     },
     "execution_count": 136,
     "metadata": {},
     "output_type": "execute_result"
    }
   ],
   "source": [
    "low_rated = df[df['mean rating']<4.5]\n",
    "low_rated.elevation_gain.describe()"
   ]
  },
  {
   "cell_type": "markdown",
   "id": "33783e81",
   "metadata": {},
   "source": [
    "Let's see how their distributions compare."
   ]
  },
  {
   "cell_type": "code",
   "execution_count": 316,
   "id": "0aa9bd79",
   "metadata": {},
   "outputs": [
    {
     "data": {
      "image/png": "[encoded data removed]",
      "text/plain": [
       "<Figure size 576x288 with 1 Axes>"
      ]
     },
     "metadata": {},
     "output_type": "display_data"
    }
   ],
   "source": [
    "fig, ax = plt.subplots(figsize=(8,4))\n",
    "ax.hist(low_rated['elevation_gain'],bins=50,alpha=0.6)\n",
    "ax.hist(high_rated['elevation_gain'],bins=50,alpha=0.6)\n",
    "ax.set_ylabel('# of trails')\n",
    "ax.set_xlabel('total elevation gain (ft)')\n",
    "ax.set_title('Distributions of trails rated < 4.5 and trails rated>=4.5')\n",
    "fig.legend(['Rating < 4.5','Rating >= 4.5'], loc=1,bbox_to_anchor=(0.9,0.9))\n",
    "fig.tight_layout()\n",
    "# fig.savefig('../images/ratings_distro.png', dpi=200)"
   ]
  },
  {
   "cell_type": "markdown",
   "id": "1e18d440",
   "metadata": {},
   "source": [
    "## Mann-Whitney U Test\n",
    "Here I conduct one-sided Mann-Whitney U tests. It's one-sided because we only care about greater elevation gain for highly rated trails."
   ]
  },
  {
   "cell_type": "markdown",
   "id": "78f99587",
   "metadata": {},
   "source": [
    "### Difficulty Rating\n",
    "With the null hypothesis being that there is no difference between the rating of hard hikes and those of moderate and easy difficulties, I am seting my alpha threshold to 0.025/2, which accounts for overtesting, using the Bonferroni Correction."
   ]
  },
  {
   "cell_type": "code",
   "execution_count": 260,
   "id": "d382bdff",
   "metadata": {},
   "outputs": [
    {
     "data": {
      "text/plain": [
       "MannwhitneyuResult(statistic=110117.0, pvalue=4.73469551299233e-27)"
      ]
     },
     "execution_count": 260,
     "metadata": {},
     "output_type": "execute_result"
    }
   ],
   "source": [
    "hard_easy = stats.mannwhitneyu(hard,easy,alternative='greater')\n",
    "hard_easy"
   ]
  },
  {
   "cell_type": "markdown",
   "id": "15ebafdc",
   "metadata": {},
   "source": [
    "hard_mod = stats.mannwhitneyu(hard,mod,alternative='greater')\n",
    "hard_mod"
   ]
  },
  {
   "cell_type": "markdown",
   "id": "a2af42de",
   "metadata": {},
   "source": [
    "With p-values: 8.9 x 10^-12 for and 0.00236, being lower than my alpha of 0.0125, I can safely reject the null hypothesis for both tests. "
   ]
  },
  {
   "cell_type": "markdown",
   "id": "6c01a6ab",
   "metadata": {},
   "source": [
    "### Elevation"
   ]
  },
  {
   "cell_type": "code",
   "execution_count": 116,
   "id": "20ca3c5c",
   "metadata": {},
   "outputs": [
    {
     "data": {
      "text/plain": [
       "MannwhitneyuResult(statistic=321941.5, pvalue=2.0379648504581304e-31)"
      ]
     },
     "execution_count": 116,
     "metadata": {},
     "output_type": "execute_result"
    }
   ],
   "source": [
    "elev_test = stats.mannwhitneyu(high_rated['elevation_gain'],low_rated['elevation_gain'], alternative='greater')\n",
    "elev_test"
   ]
  },
  {
   "cell_type": "markdown",
   "id": "4689e742",
   "metadata": {},
   "source": [
    "This is an exceptionally low p-value, which I didn't expect because there was some apparent overlap between the two samples and very large standard deviation of elevation. However, given that a vast majority of the low-rated hikes had little elevation gain and that there were nearly 1500 total samples, it does make more sense to get a low p-value. \\\n",
    "Let's repeat this for trail length as well.\n",
    "\n",
    "*We reject the null hypothesis because the elevation gain of high rated trails (rated>4.5 stars) is significantly greater than lower-rated trails.*"
   ]
  },
  {
   "cell_type": "markdown",
   "id": "a38ef542",
   "metadata": {},
   "source": [
    "### Trail Length"
   ]
  },
  {
   "cell_type": "code",
   "execution_count": 118,
   "id": "d8ac78c7",
   "metadata": {},
   "outputs": [
    {
     "data": {
      "text/plain": [
       "MannwhitneyuResult(statistic=292588.5, pvalue=5.1633852792092156e-15)"
      ]
     },
     "execution_count": 118,
     "metadata": {},
     "output_type": "execute_result"
    }
   ],
   "source": [
    "length_test = stats.mannwhitneyu(high_rated['total_distance'],low_rated['total_distance'], alternative='greater')\n",
    "length_test"
   ]
  },
  {
   "cell_type": "markdown",
   "id": "42cfbd29",
   "metadata": {},
   "source": [
    "### T-test"
   ]
  },
  {
   "cell_type": "markdown",
   "id": "bb9207df",
   "metadata": {},
   "source": [
    "Out of curiosity, despite these two samples not being normally distributed, what result does a student's t-test give us?"
   ]
  },
  {
   "cell_type": "code",
   "execution_count": 119,
   "id": "e7b64e1d",
   "metadata": {},
   "outputs": [
    {
     "data": {
      "text/plain": [
       "Ttest_indResult(statistic=12.151000862530976, pvalue=9.48403475142163e-33)"
      ]
     },
     "execution_count": 119,
     "metadata": {},
     "output_type": "execute_result"
    }
   ],
   "source": [
    "stats.ttest_ind(high_rated['elevation_gain'],low_rated['elevation_gain'],alternative='greater')"
   ]
  },
  {
   "cell_type": "code",
   "execution_count": 120,
   "id": "203a9aff",
   "metadata": {},
   "outputs": [
    {
     "data": {
      "text/plain": [
       "Ttest_indResult(statistic=6.498902705940053, pvalue=5.5181641784449316e-11)"
      ]
     },
     "execution_count": 120,
     "metadata": {},
     "output_type": "execute_result"
    }
   ],
   "source": [
    "stats.ttest_ind(high_rated['total_distance'],low_rated['total_distance'],alternative='greater')"
   ]
  },
  {
   "cell_type": "markdown",
   "id": "a7873ee7",
   "metadata": {},
   "source": [
    "### Waterfalls"
   ]
  },
  {
   "cell_type": "code",
   "execution_count": 296,
   "id": "55791fb9",
   "metadata": {},
   "outputs": [],
   "source": [
    "# #filtering for trails with more than five reviews\n",
    "# df=df[df.reviews>5]"
   ]
  },
  {
   "cell_type": "code",
   "execution_count": 297,
   "id": "8ae44d66",
   "metadata": {},
   "outputs": [
    {
     "data": {
      "text/plain": [
       "count    114.000000\n",
       "mean       4.372405\n",
       "std        0.329197\n",
       "min        2.956522\n",
       "25%        4.177310\n",
       "50%        4.404545\n",
       "75%        4.583070\n",
       "max        5.000000\n",
       "Name: mean rating, dtype: float64"
      ]
     },
     "execution_count": 297,
     "metadata": {},
     "output_type": "execute_result"
    }
   ],
   "source": [
    "waterfalls = df[df['waterfall']==1]\n",
    "waterfalls['mean rating'].describe()"
   ]
  },
  {
   "cell_type": "markdown",
   "id": "7d2d9a20",
   "metadata": {},
   "source": [
    "It appears most trails have less than 10 reviews with a mean of 16 reviews and standard deviation of 34. Because I am comparing features of the trails (wildflowers and waterfalls) I will use these as the indepenent variables, while number of reviews will be the independent variable"
   ]
  },
  {
   "cell_type": "code",
   "execution_count": 298,
   "id": "895067ca",
   "metadata": {},
   "outputs": [
    {
     "data": {
      "text/plain": [
       "<AxesSubplot:>"
      ]
     },
     "execution_count": 298,
     "metadata": {},
     "output_type": "execute_result"
    },
    {
     "data": {
      "image/png": "[encoded data removed]",
      "text/plain": [
       "<Figure size 432x288 with 1 Axes>"
      ]
     },
     "metadata": {},
     "output_type": "display_data"
    }
   ],
   "source": [
    "waterfalls['mean rating'].hist(bins=25)"
   ]
  },
  {
   "cell_type": "code",
   "execution_count": 299,
   "id": "a46ffd73",
   "metadata": {},
   "outputs": [
    {
     "data": {
      "text/plain": [
       "count    608.000000\n",
       "mean       4.139827\n",
       "std        0.448260\n",
       "min        2.000000\n",
       "25%        3.857143\n",
       "50%        4.158667\n",
       "75%        4.491667\n",
       "max        5.000000\n",
       "Name: mean rating, dtype: float64"
      ]
     },
     "execution_count": 299,
     "metadata": {},
     "output_type": "execute_result"
    }
   ],
   "source": [
    "no_waterfalls = df[df['waterfall']==0]\n",
    "no_waterfalls['mean rating'].describe()"
   ]
  },
  {
   "cell_type": "code",
   "execution_count": 300,
   "id": "f75fbb89",
   "metadata": {},
   "outputs": [
    {
     "data": {
      "text/plain": [
       "<AxesSubplot:>"
      ]
     },
     "execution_count": 300,
     "metadata": {},
     "output_type": "execute_result"
    },
    {
     "data": {
      "image/png": "[encoded data removed]",
      "text/plain": [
       "<Figure size 432x288 with 1 Axes>"
      ]
     },
     "metadata": {},
     "output_type": "display_data"
    }
   ],
   "source": [
    "no_waterfalls['mean rating'].hist(bins=25)"
   ]
  },
  {
   "cell_type": "code",
   "execution_count": 301,
   "id": "59882447",
   "metadata": {},
   "outputs": [
    {
     "data": {
      "text/plain": [
       "MannwhitneyuResult(statistic=45914.0, pvalue=1.7992744224876933e-08)"
      ]
     },
     "execution_count": 301,
     "metadata": {},
     "output_type": "execute_result"
    }
   ],
   "source": [
    "waterfall_test = stats.mannwhitneyu(waterfalls['mean rating'],no_waterfalls['mean rating'], alternative='greater')\n",
    "waterfall_test"
   ]
  },
  {
   "cell_type": "markdown",
   "id": "1e63bc05",
   "metadata": {},
   "source": [
    "### Wildflowers"
   ]
  },
  {
   "cell_type": "code",
   "execution_count": 302,
   "id": "f25ba79f",
   "metadata": {},
   "outputs": [
    {
     "data": {
      "text/plain": [
       "count    521.000000\n",
       "mean       4.195088\n",
       "std        0.433595\n",
       "min        2.000000\n",
       "25%        3.923077\n",
       "50%        4.222222\n",
       "75%        4.500000\n",
       "max        5.000000\n",
       "Name: mean rating, dtype: float64"
      ]
     },
     "execution_count": 302,
     "metadata": {},
     "output_type": "execute_result"
    }
   ],
   "source": [
    "wildflowers = df[df.wildflowers==1]\n",
    "wildflowers['mean rating'].describe()"
   ]
  },
  {
   "cell_type": "code",
   "execution_count": 303,
   "id": "1dfca197",
   "metadata": {},
   "outputs": [
    {
     "data": {
      "text/plain": [
       "count    201.000000\n",
       "mean       4.128496\n",
       "std        0.452778\n",
       "min        2.727273\n",
       "25%        3.857143\n",
       "50%        4.173913\n",
       "75%        4.483333\n",
       "max        5.000000\n",
       "Name: mean rating, dtype: float64"
      ]
     },
     "execution_count": 303,
     "metadata": {},
     "output_type": "execute_result"
    }
   ],
   "source": [
    "no_wildflowers=df[df.wildflowers==0]\n",
    "no_wildflowers['mean rating'].describe()"
   ]
  },
  {
   "cell_type": "code",
   "execution_count": 314,
   "id": "6f2b855a",
   "metadata": {},
   "outputs": [
    {
     "data": {
      "text/plain": [
       "MannwhitneyuResult(statistic=56440.5, pvalue=0.052156604318713495)"
      ]
     },
     "execution_count": 314,
     "metadata": {},
     "output_type": "execute_result"
    }
   ],
   "source": [
    "wildflower_test = stats.mannwhitneyu(wildflowers['mean rating'],no_wildflowers['mean rating'], alternative='greater')\n",
    "wildflower_test"
   ]
  },
  {
   "cell_type": "code",
   "execution_count": 336,
   "id": "f1d58740",
   "metadata": {},
   "outputs": [
    {
     "data": {
      "text/plain": [
       "<matplotlib.legend.Legend at 0x7f5054ae1220>"
      ]
     },
     "execution_count": 336,
     "metadata": {},
     "output_type": "execute_result"
    },
    {
     "data": {
      "image/png": "[encoded data removed]",
      "text/plain": [
       "<Figure size 1440x432 with 3 Axes>"
      ]
     },
     "metadata": {},
     "output_type": "display_data"
    }
   ],
   "source": [
    "fig, axs = plt.subplots(1,3,figsize=(20,6))\n",
    "axs[0].hist(df['mean rating'],bins=25,color=color_list[3])\n",
    "axs[0].set_title('All trails')\n",
    "axs[0].set_ylabel('# of trails')\n",
    "axs[0].vlines(x=df['mean rating'].mean(),ymin=0,ymax=80,linestyle='dashed',color=color_list[2])\n",
    "axs[1].hist(no_waterfalls['mean rating'],color='gray',alpha=0.4,bins=25)\n",
    "axs[1].hist(waterfalls['mean rating'],color=color_list[0],bins=25)\n",
    "axs[1].set_title('Waterfalls')\n",
    "axs[1].set_xlabel('Rating')\n",
    "axs[2].hist(wildflowers['mean rating'],color=color_list[9],bins=25)\n",
    "axs[2].hist(no_wildflowers['mean rating'],color='gray',alpha=0.4,bins=25)\n",
    "axs[2].set_title('Wildflowers')\n",
    "axs[1].legend(['No Waterfalls','Waterfalls'])\n",
    "axs[2].legend(['Wildflowers','No Wildflowers'])\n",
    "\n",
    "# fig.savefig('../images/beauty_distro.png', dpi=200)\n"
   ]
  },
  {
   "cell_type": "markdown",
   "id": "6d850901",
   "metadata": {},
   "source": [
    "### Popularity"
   ]
  },
  {
   "cell_type": "code",
   "execution_count": 122,
   "id": "549ec267",
   "metadata": {},
   "outputs": [
    {
     "data": {
      "text/plain": [
       "count    1478.000000\n",
       "mean       16.113667\n",
       "std        34.701014\n",
       "min         1.000000\n",
       "25%         2.000000\n",
       "50%         5.000000\n",
       "75%        14.000000\n",
       "max       391.000000\n",
       "Name: reviews, dtype: float64"
      ]
     },
     "execution_count": 122,
     "metadata": {},
     "output_type": "execute_result"
    }
   ],
   "source": [
    "df.reviews.describe()"
   ]
  },
  {
   "cell_type": "code",
   "execution_count": 191,
   "id": "f670d0ca",
   "metadata": {},
   "outputs": [
    {
     "data": {
      "image/png": "[encoded data removed]",
      "text/plain": [
       "<Figure size 432x288 with 1 Axes>"
      ]
     },
     "metadata": {},
     "output_type": "display_data"
    }
   ],
   "source": [
    "ax=df.reviews.plot(kind='hist',bins=100, title='Reviews per Trail',color = color_list[7])"
   ]
  }
 ],
 "metadata": {
  "kernelspec": {
   "display_name": "Python 3",
   "language": "python",
   "name": "python3"
  },
  "language_info": {
   "codemirror_mode": {
    "name": "ipython",
    "version": 3
   },
   "file_extension": ".py",
   "mimetype": "text/x-python",
   "name": "python",
   "nbconvert_exporter": "python",
   "pygments_lexer": "ipython3",
   "version": "3.8.10"
  }
 },
 "nbformat": 4,
 "nbformat_minor": 5
}
